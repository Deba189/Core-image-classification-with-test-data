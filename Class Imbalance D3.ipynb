{
 "cells": [
  {
   "cell_type": "code",
   "execution_count": 1,
   "id": "dbeeb5d5",
   "metadata": {},
   "outputs": [
    {
     "name": "stdout",
     "output_type": "stream",
     "text": [
      "%pylab is deprecated, use %matplotlib inline and import the required libraries.\n",
      "Populating the interactive namespace from numpy and matplotlib\n"
     ]
    }
   ],
   "source": [
    "import numpy as np\n",
    "import pandas as pd\n",
    "#import pygeostat as gs\n",
    "import matplotlib.pyplot as plt\n",
    "import matplotlib.cm as cm\n",
    "from mpl_toolkits.axes_grid1 import make_axes_locatable\n",
    "import subprocess as sp\n",
    "%pylab inline --no-import-all\n",
    "from subprocess import check_output\n",
    "# import tensorflow as tf\n",
    "# from tensorflow.python import debug as tf_debug\n",
    "import os\n",
    "from sklearn.preprocessing import MinMaxScaler\n",
    "from sklearn.model_selection import train_test_split\n",
    "from sklearn.preprocessing import LabelEncoder\n",
    "from sklearn.metrics import accuracy_score\n",
    "from sklearn.cluster import KMeans\n",
    "from sklearn import preprocessing\n",
    "import scipy.spatial as scs\n",
    "import scipy as sc\n",
    "import math\n",
    "from scipy.spatial import distance\n",
    "from sklearn.metrics import mean_squared_error\n",
    "import time\n",
    "from sklearn.metrics import r2_score\n",
    "from random import randrange\n",
    "from IPython.display import clear_output\n",
    "from scipy.ndimage import gaussian_filter\n",
    "import h5py\n",
    "import torch\n",
    "import torch.nn as nn\n",
    "import torch.nn.functional as F\n",
    "from torch.utils.data import DataLoader\n",
    "import torchvision\n",
    "# from imutils import paths\n",
    "from sklearn.preprocessing import LabelBinarizer\n",
    "from sklearn.utils import shuffle\n",
    "import random\n",
    "import torch\n",
    "import torchvision\n",
    "import torch.nn as nn\n",
    "import torch.optim as optim\n",
    "from torchvision import transforms\n",
    "from torch.utils.data import DataLoader\n",
    "from torch.utils.data import random_split"
   ]
  },
  {
   "cell_type": "code",
   "execution_count": 2,
   "id": "f89e9dd8",
   "metadata": {},
   "outputs": [],
   "source": [
    "import torch\n",
    "import torchvision\n",
    "import numpy as np\n",
    "from torchvision import transforms\n",
    "from torchvision.datasets import ImageFolder\n",
    "import matplotlib.pyplot as plt\n",
    "import torch\n",
    "import torchvision.datasets as datasets\n",
    "import torchvision.transforms as transforms\n",
    "import matplotlib.pyplot as plt\n",
    "from sklearn.metrics import confusion_matrix, classification_report\n",
    "import torch\n",
    "import torch.nn as nn\n",
    "import torch.optim as optim\n",
    "import torchvision.models as models\n",
    "from torch.utils.data import DataLoader\n",
    "from torchvision.datasets import ImageFolder\n",
    "import torchvision.transforms as transforms\n",
    "from tqdm import tqdm\n",
    "from torchvision.utils import save_image\n",
    "import torchvision.transforms as transforms"
   ]
  },
  {
   "cell_type": "code",
   "execution_count": 3,
   "id": "e69e0a84",
   "metadata": {},
   "outputs": [],
   "source": [
    "torch.backends.cudnn.deterministic = True\n",
    "torch.backends.cudnn.benchmark = False"
   ]
  },
  {
   "cell_type": "code",
   "execution_count": 4,
   "id": "5a2ae75c",
   "metadata": {},
   "outputs": [],
   "source": [
    "# Set random seed for reproducibility\n",
    "seed = 42\n",
    "random.seed(seed)\n",
    "np.random.seed(seed)\n",
    "torch.manual_seed(seed)\n",
    "if torch.cuda.is_available():\n",
    "    torch.cuda.manual_seed_all(seed)"
   ]
  },
  {
   "cell_type": "code",
   "execution_count": 5,
   "id": "08863cee",
   "metadata": {},
   "outputs": [
    {
     "name": "stdout",
     "output_type": "stream",
     "text": [
      "Class Index: 0, Class Name: 3001_Breccia, Class Label: 3001\n",
      "Class Index: 1, Class Name: 3002_IHS, Class Label: 3002\n",
      "Class Index: 2, Class Name: 3003_Other, Class Label: 3003\n",
      "Class Index: 3, Class Name: 3004_Sand, Class Label: 3004\n"
     ]
    }
   ],
   "source": [
    "class_names = ['3001_Breccia', '3002_IHS', '3003_Other', '3004_Sand']\n",
    "class_to_index = {class_name: index for index, class_name in enumerate(class_names)}\n",
    "\n",
    "# Create empty lists to store the class information\n",
    "class_index_list = []\n",
    "class_name_list = []\n",
    "class_label_list = []\n",
    "\n",
    "# Iterate over the class names and retrieve the corresponding index and label\n",
    "for class_name in class_names:\n",
    "    class_index = class_to_index[class_name]\n",
    "    class_label = class_name[:4]  # get the first 4 characters of the class name as label\n",
    "    class_index_list.append(class_index)\n",
    "    class_name_list.append(class_name)\n",
    "    class_label_list.append(class_label)\n",
    "\n",
    "# Print the class information\n",
    "for i in range(len(class_index_list)):\n",
    "    print(f\"Class Index: {class_index_list[i]}, Class Name: {class_name_list[i]}, Class Label: {class_label_list[i]}\")"
   ]
  },
  {
   "cell_type": "code",
   "execution_count": null,
   "id": "4712fbd3",
   "metadata": {},
   "outputs": [],
   "source": []
  },
  {
   "cell_type": "code",
   "execution_count": 15,
   "id": "3a3e35f0",
   "metadata": {},
   "outputs": [
    {
     "data": {
      "image/png": "[encoded data removed]",
      "text/plain": [
       "<Figure size 1000x600 with 1 Axes>"
      ]
     },
     "metadata": {},
     "output_type": "display_data"
    }
   ],
   "source": [
    "# Check if CUDA is available and set the device accordingly\n",
    "device = torch.device(\"cuda\" if torch.cuda.is_available() else \"cpu\")\n",
    "\n",
    "current_directory = os.getcwd()\n",
    "\n",
    "# Define the directories for train, validation, and test datasets\n",
    "train_data_dir = os.path.normpath(os.path.join(current_directory,'Dataset_3', 'train'))\n",
    "train_data_dir = os.path.normpath(os.path.join(current_directory,'Dataset_3', 'val'))\n",
    "train_data_dir = os.path.normpath(os.path.join(current_directory,'Dataset_3', 'test'))\n",
    "\n",
    "# Define the transformation to convert the images to tensors\n",
    "to_tensor = transforms.ToTensor()\n",
    "\n",
    "# Function to calculate class distributions\n",
    "def calculate_class_proportions(data_dir):\n",
    "    dataset = datasets.ImageFolder(data_dir, transform=to_tensor)\n",
    "\n",
    "    # Calculate class counts\n",
    "    class_counts = np.bincount(dataset.targets)\n",
    "\n",
    "    # Normalize class counts to obtain class proportions\n",
    "    class_proportions = class_counts / np.sum(class_counts)\n",
    "\n",
    "    return class_proportions\n",
    "\n",
    "# Calculate class proportions for the train, validation, and test datasets\n",
    "train_proportions = calculate_class_proportions(train_data_dir)\n",
    "val_proportions = calculate_class_proportions(val_data_dir)\n",
    "test_proportions = calculate_class_proportions(test_data_dir)\n",
    "\n",
    "# Plot class distributions\n",
    "num_classes = len(train_proportions)\n",
    "x = np.arange(num_classes)\n",
    "width = 0.25\n",
    "\n",
    "fig, ax = plt.subplots(figsize=(10, 6))\n",
    "rects1 = ax.bar(x - width, train_proportions, width, label=\"Train Dataset\")\n",
    "rects2 = ax.bar(x, val_proportions, width, label=\"Validation Dataset\")\n",
    "rects3 = ax.bar(x + width, test_proportions, width, label=\"Test Dataset\")\n",
    "\n",
    "ax.set_ylabel('Proportion')\n",
    "ax.set_title('Class Distributions')\n",
    "ax.set_xticks(x)\n",
    "ax.set_xticklabels(class_label_list)\n",
    "ax.legend()\n",
    "plt.savefig(\"D3 CD.png\")\n",
    "\n",
    "\n",
    "plt.show()\n"
   ]
  },
  {
   "cell_type": "code",
   "execution_count": null,
   "id": "138d6bc1-c7fd-47c3-8f63-abd4bccdd579",
   "metadata": {},
   "outputs": [],
   "source": []
  }
 ],
 "metadata": {
  "kernelspec": {
   "display_name": "Python 3 (ipykernel)",
   "language": "python",
   "name": "python3"
  },
  "language_info": {
   "codemirror_mode": {
    "name": "ipython",
    "version": 3
   },
   "file_extension": ".py",
   "mimetype": "text/x-python",
   "name": "python",
   "nbconvert_exporter": "python",
   "pygments_lexer": "ipython3",
   "version": "3.11.7"
  }
 },
 "nbformat": 4,
 "nbformat_minor": 5
}
