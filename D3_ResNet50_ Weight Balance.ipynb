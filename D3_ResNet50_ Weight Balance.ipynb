{
 "cells": [
  {
   "cell_type": "code",
   "execution_count": 56,
   "id": "bbb96541",
   "metadata": {},
   "outputs": [],
   "source": [
    "import torch"
   ]
  },
  {
   "cell_type": "code",
   "execution_count": 26,
   "id": "c0c8e1b3",
   "metadata": {},
   "outputs": [
    {
     "name": "stdout",
     "output_type": "stream",
     "text": [
      "%pylab is deprecated, use %matplotlib inline and import the required libraries.\n",
      "Populating the interactive namespace from numpy and matplotlib\n"
     ]
    }
   ],
   "source": [
    "import numpy as np\n",
    "import pandas as pd\n",
    "#import pygeostat as gs\n",
    "import matplotlib.pyplot as plt\n",
    "import matplotlib.cm as cm\n",
    "from mpl_toolkits.axes_grid1 import make_axes_locatable\n",
    "import subprocess as sp\n",
    "%pylab inline --no-import-all\n",
    "from subprocess import check_output\n",
    "# import tensorflow as tf\n",
    "# from tensorflow.python import debug as tf_debug\n",
    "import os\n",
    "from sklearn.preprocessing import MinMaxScaler\n",
    "from sklearn.model_selection import train_test_split\n",
    "from sklearn.preprocessing import LabelEncoder\n",
    "from sklearn.metrics import accuracy_score\n",
    "from sklearn.cluster import KMeans\n",
    "from sklearn import preprocessing\n",
    "import scipy.spatial as scs\n",
    "import scipy as sc\n",
    "import math\n",
    "from scipy.spatial import distance\n",
    "from sklearn.metrics import mean_squared_error\n",
    "import time\n",
    "from sklearn.metrics import r2_score\n",
    "from random import randrange\n",
    "from IPython.display import clear_output\n",
    "from scipy.ndimage import gaussian_filter\n",
    "import h5py\n",
    "import torch\n",
    "import torch.nn as nn\n",
    "import torch.nn.functional as F\n",
    "from torch.utils.data import DataLoader\n",
    "import torchvision\n",
    "# from imutils import paths\n",
    "from sklearn.preprocessing import LabelBinarizer\n",
    "from sklearn.utils import shuffle\n",
    "import random\n",
    "import torch\n",
    "import torchvision\n",
    "import torch.nn as nn\n",
    "import torch.optim as optim\n",
    "from torchvision import transforms\n",
    "from torch.utils.data import DataLoader\n",
    "from torch.utils.data import random_split"
   ]
  },
  {
   "cell_type": "code",
   "execution_count": 27,
   "id": "b99b9d54",
   "metadata": {},
   "outputs": [],
   "source": [
    "import torch\n",
    "import torchvision\n",
    "import numpy as np\n",
    "from torchvision import transforms\n",
    "from torchvision.datasets import ImageFolder\n",
    "import matplotlib.pyplot as plt\n",
    "import torch\n",
    "import torchvision.datasets as datasets\n",
    "import torchvision.transforms as transforms\n",
    "import matplotlib.pyplot as plt\n",
    "from sklearn.metrics import confusion_matrix, classification_report\n",
    "import torch\n",
    "import torch.nn as nn\n",
    "import torch.optim as optim\n",
    "import torchvision.models as models\n",
    "from torch.utils.data import DataLoader\n",
    "from torchvision.datasets import ImageFolder\n",
    "import torchvision.transforms as transforms\n",
    "from tqdm import tqdm\n",
    "from torchvision.utils import save_image\n",
    "\n"
   ]
  },
  {
   "cell_type": "code",
   "execution_count": 28,
   "id": "73a1f37f",
   "metadata": {},
   "outputs": [],
   "source": [
    "torch.backends.cudnn.deterministic = True\n",
    "torch.backends.cudnn.benchmark = False\n"
   ]
  },
  {
   "cell_type": "code",
   "execution_count": 29,
   "id": "c7f5378a",
   "metadata": {},
   "outputs": [],
   "source": [
    "# Set random seed for reproducibility\n",
    "seed = 42\n",
    "random.seed(seed)\n",
    "np.random.seed(seed)\n",
    "torch.manual_seed(seed)\n",
    "if torch.cuda.is_available():\n",
    "    torch.cuda.manual_seed_all(seed)"
   ]
  },
  {
   "cell_type": "code",
   "execution_count": 30,
   "id": "7d9e3f18",
   "metadata": {},
   "outputs": [
    {
     "name": "stdout",
     "output_type": "stream",
     "text": [
      "Mean: [0.3529130220413208, 0.3529130220413208, 0.3529130220413208]\n",
      "Std: [0.15991665422916412, 0.15991665422916412, 0.15991665422916412]\n"
     ]
    }
   ],
   "source": [
    "\n",
    "\n",
    "# Check if CUDA is available and set the device accordingly\n",
    "device = torch.device(\"cuda\" if torch.cuda.is_available() else \"cpu\")\n",
    "\n",
    "# Get the current working directory\n",
    "current_directory = os.getcwd()\n",
    "\n",
    "# Construct the relative path to the train directory\n",
    "train_data_dir = os.path.normpath(os.path.join(current_directory, '..', 'Dataset_3', 'train'))\n",
    "\n",
    "# Create a DataLoader for the original training dataset (without applying transformations)\n",
    "original_train_dataset = datasets.ImageFolder(train_data_dir)\n",
    "\n",
    "\n",
    "# Calculate mean and std of every 10th sample of the original training dataset on the GPU\n",
    "n = 1  # set n to the desired subsampling factor\n",
    "mean_list = []\n",
    "std_list = []\n",
    "to_tensor = transforms.ToTensor()\n",
    "for i, (data, target) in enumerate(original_train_dataset):\n",
    "    if i % n == 0:\n",
    "        data = to_tensor(data).unsqueeze(0)  # Convert to tensor and add an extra dimension for batch size\n",
    "        data = data.to(device)\n",
    "        mean_list.append(torch.mean(data, dim=(0, 2, 3)))\n",
    "        std_list.append(torch.std(data, dim=(0, 2, 3)))\n",
    "\n",
    "# Calculate the overall mean and std\n",
    "mean = torch.mean(torch.stack(mean_list), dim=0)\n",
    "std = torch.mean(torch.stack(std_list), dim=0)\n",
    "\n",
    "# Move the mean and std tensors back to the CPU for printing\n",
    "mean = mean.cpu().tolist()\n",
    "std = std.cpu().tolist()\n",
    "\n",
    "\n",
    "\n",
    "print('Mean:', mean)\n",
    "print('Std:', std)\n"
   ]
  },
  {
   "cell_type": "code",
   "execution_count": 31,
   "id": "cf90bfee",
   "metadata": {},
   "outputs": [],
   "source": [
    "\n",
    "\n",
    "\n",
    "# set device to CUDA if available\n",
    "device = torch.device(\"cuda\" if torch.cuda.is_available() else \"cpu\")\n",
    "\n",
    "# train and test data directory\n",
    "train_data_dir = os.path.normpath(os.path.join(current_directory, '..', 'Dataset_3', 'train'))\n",
    "val_data_dir = os.path.normpath(os.path.join(current_directory, '..', 'Dataset_3', 'val'))\n",
    "test_data_dir = os.path.normpath(os.path.join(current_directory, '..', 'Dataset_3', 'test'))\n",
    "\n",
    "# define transform to apply on the data\n",
    "transform = transforms.Compose([\n",
    "    transforms.ToTensor(),\n",
    "    transforms.Normalize(mean=mean,std=std),\n",
    "    transforms.Resize((224,224),antialias=True),\n",
    "\n",
    "])\n",
    "train_dataset = torchvision.datasets.ImageFolder(train_data_dir, transform=transform)\n",
    "val_dataset = torchvision.datasets.ImageFolder(val_data_dir, transform=transform)\n",
    "test_dataset = torchvision.datasets.ImageFolder(test_data_dir, transform=transform)\n",
    "\n",
    "# create data loaders\n",
    "train_loader = DataLoader(train_dataset, batch_size=32, shuffle=True, num_workers=2, pin_memory=True)\n",
    "val_loader = DataLoader(val_dataset, batch_size=32, shuffle=False)\n",
    "test_loader = DataLoader(test_dataset, batch_size=32, shuffle=False)"
   ]
  },
  {
   "cell_type": "code",
   "execution_count": 32,
   "id": "2f34fd19",
   "metadata": {},
   "outputs": [
    {
     "name": "stdout",
     "output_type": "stream",
     "text": [
      "Length of Train Data : 560\n",
      "Length of Validation Data : 372\n",
      "Length of Test Data : 188\n"
     ]
    }
   ],
   "source": [
    "# from torch.utils.data.dataloader import DataLoader\n",
    "\n",
    "\n",
    "batch_size = 32\n",
    "\n",
    "train_data=train_dataset\n",
    "val_data =val_dataset\n",
    "test_data=test_dataset\n",
    "\n",
    "print(f\"Length of Train Data : {len(train_data)}\")\n",
    "print(f\"Length of Validation Data : {len(val_data)}\")\n",
    "print(f\"Length of Test Data : {len(test_data)}\")\n"
   ]
  },
  {
   "cell_type": "code",
   "execution_count": null,
   "id": "d3a65b36",
   "metadata": {},
   "outputs": [],
   "source": []
  },
  {
   "cell_type": "code",
   "execution_count": 33,
   "id": "33f87aea",
   "metadata": {},
   "outputs": [],
   "source": [
    "# Function to calculate class distributions\n",
    "def calculate_class_proportions(data_dir):\n",
    "    dataset = datasets.ImageFolder(data_dir, transform=to_tensor)\n",
    "\n",
    "    # Calculate class counts\n",
    "    class_counts = np.bincount(dataset.targets)\n",
    "\n",
    "    # Normalize class counts to obtain class proportions\n",
    "    class_proportions = class_counts / np.sum(class_counts)\n",
    "\n",
    "    return class_proportions\n",
    "\n",
    "# Calculate class proportions for the train, validation, and test datasets\n",
    "train_proportions = calculate_class_proportions(train_data_dir)\n",
    "val_proportions = calculate_class_proportions(val_data_dir)\n",
    "test_proportions = calculate_class_proportions(test_data_dir)"
   ]
  },
  {
   "cell_type": "code",
   "execution_count": 34,
   "id": "043dcbc7",
   "metadata": {},
   "outputs": [],
   "source": [
    "class_proportions = calculate_class_proportions(train_data_dir)\n",
    "class_weights = 1.0 / class_proportions\n"
   ]
  },
  {
   "cell_type": "code",
   "execution_count": 11,
   "id": "873584b7",
   "metadata": {},
   "outputs": [
    {
     "name": "stderr",
     "output_type": "stream",
     "text": [
      "C:\\Users\\labuser\\anaconda3\\lib\\site-packages\\torchvision\\models\\_utils.py:208: UserWarning: The parameter 'pretrained' is deprecated since 0.13 and may be removed in the future, please use 'weights' instead.\n",
      "  warnings.warn(\n",
      "C:\\Users\\labuser\\anaconda3\\lib\\site-packages\\torchvision\\models\\_utils.py:223: UserWarning: Arguments other than a weight enum or `None` for 'weights' are deprecated since 0.13 and may be removed in the future. The current behavior is equivalent to passing `weights=ResNet50_Weights.IMAGENET1K_V1`. You can also use `weights=ResNet50_Weights.DEFAULT` to get the most up-to-date weights.\n",
      "  warnings.warn(msg)\n",
      "100%|██████████████████████████████████████████████████████████████████████████████████| 12/12 [00:01<00:00, 11.96it/s]\n"
     ]
    },
    {
     "name": "stdout",
     "output_type": "stream",
     "text": [
      "Epoch [1/10], Training Loss: 0.8619, Training Accuracy: 0.7304, Validation Loss: 2.7790, Validation Accuracy: 0.5027\n",
      "Best model saved at epoch 1\n"
     ]
    },
    {
     "name": "stderr",
     "output_type": "stream",
     "text": [
      "100%|██████████████████████████████████████████████████████████████████████████████████| 12/12 [00:00<00:00, 13.24it/s]\n"
     ]
    },
    {
     "name": "stdout",
     "output_type": "stream",
     "text": [
      "Epoch [2/10], Training Loss: 5.8962, Training Accuracy: 0.2500, Validation Loss: 1.4148, Validation Accuracy: 0.2688\n"
     ]
    },
    {
     "name": "stderr",
     "output_type": "stream",
     "text": [
      "100%|██████████████████████████████████████████████████████████████████████████████████| 12/12 [00:00<00:00, 13.67it/s]\n"
     ]
    },
    {
     "name": "stdout",
     "output_type": "stream",
     "text": [
      "Epoch [3/10], Training Loss: 1.3901, Training Accuracy: 0.2732, Validation Loss: 1.3091, Validation Accuracy: 0.4328\n",
      "Best model saved at epoch 3\n"
     ]
    },
    {
     "name": "stderr",
     "output_type": "stream",
     "text": [
      "100%|██████████████████████████████████████████████████████████████████████████████████| 12/12 [00:00<00:00, 13.10it/s]\n"
     ]
    },
    {
     "name": "stdout",
     "output_type": "stream",
     "text": [
      "Epoch [4/10], Training Loss: 1.2029, Training Accuracy: 0.4482, Validation Loss: 1.1421, Validation Accuracy: 0.4194\n",
      "Best model saved at epoch 4\n"
     ]
    },
    {
     "name": "stderr",
     "output_type": "stream",
     "text": [
      "100%|██████████████████████████████████████████████████████████████████████████████████| 12/12 [00:00<00:00, 13.48it/s]\n"
     ]
    },
    {
     "name": "stdout",
     "output_type": "stream",
     "text": [
      "Epoch [5/10], Training Loss: 1.1130, Training Accuracy: 0.4768, Validation Loss: 1.0503, Validation Accuracy: 0.4543\n",
      "Best model saved at epoch 5\n"
     ]
    },
    {
     "name": "stderr",
     "output_type": "stream",
     "text": [
      "100%|██████████████████████████████████████████████████████████████████████████████████| 12/12 [00:00<00:00, 13.65it/s]\n"
     ]
    },
    {
     "name": "stdout",
     "output_type": "stream",
     "text": [
      "Epoch [6/10], Training Loss: 1.1192, Training Accuracy: 0.4768, Validation Loss: 1.0176, Validation Accuracy: 0.5242\n"
     ]
    },
    {
     "name": "stderr",
     "output_type": "stream",
     "text": [
      "100%|██████████████████████████████████████████████████████████████████████████████████| 12/12 [00:00<00:00, 13.46it/s]\n"
     ]
    },
    {
     "name": "stdout",
     "output_type": "stream",
     "text": [
      "Epoch [7/10], Training Loss: 1.0436, Training Accuracy: 0.4964, Validation Loss: 1.0835, Validation Accuracy: 0.4758\n"
     ]
    },
    {
     "name": "stderr",
     "output_type": "stream",
     "text": [
      "100%|██████████████████████████████████████████████████████████████████████████████████| 12/12 [00:00<00:00, 13.40it/s]\n"
     ]
    },
    {
     "name": "stdout",
     "output_type": "stream",
     "text": [
      "Epoch [8/10], Training Loss: 1.0534, Training Accuracy: 0.4821, Validation Loss: 1.0753, Validation Accuracy: 0.5027\n",
      "Best model saved at epoch 8\n"
     ]
    },
    {
     "name": "stderr",
     "output_type": "stream",
     "text": [
      "100%|██████████████████████████████████████████████████████████████████████████████████| 12/12 [00:00<00:00, 13.15it/s]\n"
     ]
    },
    {
     "name": "stdout",
     "output_type": "stream",
     "text": [
      "Epoch [9/10], Training Loss: 1.0672, Training Accuracy: 0.5054, Validation Loss: 1.0100, Validation Accuracy: 0.5134\n"
     ]
    },
    {
     "name": "stderr",
     "output_type": "stream",
     "text": [
      "100%|██████████████████████████████████████████████████████████████████████████████████| 12/12 [00:00<00:00, 13.06it/s]\n"
     ]
    },
    {
     "name": "stdout",
     "output_type": "stream",
     "text": [
      "Epoch [10/10], Training Loss: 1.0069, Training Accuracy: 0.5214, Validation Loss: 0.9872, Validation Accuracy: 0.5027\n",
      "Best model saved at epoch 10\n",
      "\n",
      "\n",
      "Total training time: 56.8283 seconds\n",
      "Total training time: 0.9471 minutes\n",
      "Final Best model saved at epoch 10\n"
     ]
    }
   ],
   "source": [
    "# define the model\n",
    "model = models.resnet50(pretrained=True)\n",
    "num_ftrs = model.fc.in_features\n",
    "model.fc = nn.Linear(num_ftrs, 4)\n",
    "\n",
    "# set the model to device\n",
    "device = torch.device(\"cuda\" if torch.cuda.is_available() else \"cpu\")\n",
    "model = model.to(device)\n",
    "\n",
    "# define loss function and optimizer\n",
    "# define loss function and optimizer\n",
    "criterion = nn.CrossEntropyLoss(weight=torch.Tensor(class_weights).to(device))\n",
    "optimizer = optim.Adam(model.parameters(),lr=0.001,weight_decay=0.01)\n",
    "\n",
    "\n",
    "# During evaluation, calculate class weights based on the class proportions in the validation set\n",
    "val_class_weights = 1.0 / val_proportions\n",
    "\n",
    "# Define the loss function for weighted evaluation\n",
    "eval_criterion = nn.CrossEntropyLoss(weight=torch.Tensor(val_class_weights).to(device))\n",
    "\n",
    "# initialize best validation loss to infinity\n",
    "best_val_loss = float('inf')\n",
    "best_train_loss = float('inf')\n",
    "best_diff=float('inf')\n",
    "val_loss_temp=float('inf')\n",
    "ep=0\n",
    "\n",
    "train_losses = []\n",
    "val_losses = []\n",
    "epoch_values = []\n",
    "\n",
    "\n",
    "# train the model\n",
    "num_epochs = 10\n",
    "\n",
    "start_time = time.time()  # Start time\n",
    "\n",
    "for epoch in range(num_epochs):\n",
    "    train_loss = 0.0\n",
    "    train_accuracy = 0.0  # Variable to store training accuracy\n",
    "\n",
    "    for i, (images, labels) in enumerate(train_loader):\n",
    "        images = images.to(device)\n",
    "        labels = labels.to(device)\n",
    "        outputs = model(images)\n",
    "        loss = criterion(outputs, labels)\n",
    "        optimizer.zero_grad()\n",
    "        loss.backward()\n",
    "        optimizer.step()\n",
    "        train_loss += loss.item()\n",
    "\n",
    "        # Calculate training accuracy\n",
    "        _, preds = torch.max(outputs.data, 1)\n",
    "        train_accuracy += torch.sum(preds == labels.data).item()\n",
    "\n",
    "    # calculate average training loss and accuracy for the epoch\n",
    "    train_loss /= len(train_loader)\n",
    "    train_accuracy /= len(train_loader.dataset)\n",
    "    train_losses.append(train_loss)\n",
    "\n",
    "    # evaluate the model on the validation set\n",
    "    val_loss = 0.0\n",
    "    val_accuracy = 0.0\n",
    "    with torch.no_grad():\n",
    "        model.eval()\n",
    "        for images, labels in tqdm(val_loader):\n",
    "            images = images.to(device)\n",
    "            labels = labels.to(device)\n",
    "            outputs = model(images)\n",
    "            val_loss += eval_criterion(outputs, labels).item()\n",
    "            _, preds = torch.max(outputs.data, 1)\n",
    "            val_accuracy += torch.sum(preds == labels.data).item()\n",
    "        val_loss /= len(val_loader)\n",
    "        val_accuracy /= len(val_loader.dataset)\n",
    "        val_losses.append(val_loss)\n",
    "        \n",
    "    epoch_values.append(epoch + 1)\n",
    "\n",
    "    print('Epoch [{}/{}], Training Loss: {:.4f}, Training Accuracy: {:.4f}, Validation Loss: {:.4f}, Validation Accuracy: {:.4f}'\n",
    "          .format(epoch+1, num_epochs, train_loss, train_accuracy, val_loss, val_accuracy))\n",
    "    \n",
    "    diff= abs(train_loss-val_loss)\n",
    "\n",
    "    # save the model if it achieves the best validation loss and train loss so far\n",
    "    if (val_loss < best_val_loss and train_loss < best_train_loss) or (diff<=best_diff):\n",
    "        if(val_loss<val_loss_temp):\n",
    "            best_val_loss = val_loss\n",
    "            best_train_loss = train_loss\n",
    "            best_diff= diff\n",
    "            torch.save(model.state_dict(), 'D3_fixedseed_preTrue_WB.pth')\n",
    "            print(f\"Best model saved at epoch {epoch+1}\")\n",
    "            ep=epoch+1\n",
    "            \n",
    "    val_loss_temp=val_loss  \n",
    "        \n",
    "end_time = time.time()  # End time\n",
    "total_time = end_time - start_time  # Total training time in seconds\n",
    "total_time_minutes = total_time / 60  # Convert to minutes\n",
    "\n",
    "# Save epoch values, train losses, and validation losses to a CSV file\n",
    "data = np.array([epoch_values, train_losses, val_losses]).T\n",
    "np.savetxt(\"losses_R_D3.csv\", data, delimiter=\",\", header=\"Epoch,Train_Loss,Validation_Loss\", comments=\"\")\n",
    "\n",
    "print('\\n')\n",
    "print(f\"Total training time: {total_time:.4f} seconds\")\n",
    "print(f\"Total training time: {total_time_minutes:.4f} minutes\")\n",
    "print(f\"Final Best model saved at epoch {ep}\")\n"
   ]
  },
  {
   "cell_type": "code",
   "execution_count": 45,
   "id": "188ff123",
   "metadata": {},
   "outputs": [],
   "source": [
    "data = np.loadtxt(\"losses_R_D3.csv\", delimiter=\",\", skiprows=1)  # Skip the header\n",
    "epoch_values = data[:, 0]\n",
    "train_losses = data[:, 1]\n",
    "val_losses = data[:, 2]"
   ]
  },
  {
   "cell_type": "code",
   "execution_count": 46,
   "id": "c1c50a90",
   "metadata": {},
   "outputs": [
    {
     "data": {
      "image/png": "[encoded data removed]",
      "text/plain": [
       "<Figure size 640x480 with 1 Axes>"
      ]
     },
     "metadata": {},
     "output_type": "display_data"
    }
   ],
   "source": [
    "plt.plot(epoch_values, train_losses, label='Training Loss')\n",
    "plt.plot(epoch_values, val_losses, label='Validation Loss')\n",
    "plt.xlabel('Epoch')\n",
    "plt.ylabel('Loss')\n",
    "#plt.title('D3 ResNet50 Pretrained')\n",
    "plt.xlim(0,12)\n",
    "plt.ylim(0,6)\n",
    "plt.xticks(range(0, 12, 2))\n",
    "plt.legend()\n",
    "plt.gca().yaxis.set_major_formatter(plt.FormatStrFormatter('%.2f'))\n",
    "# Get the current working directory\n",
    "current_directory = os.getcwd()\n",
    "# Define the filename\n",
    "filename = \"D3_ResNet50_Pretrained_EvsL_WB.png\"\n",
    "# Construct the file path relative to the current directory\n",
    "file_path = os.path.join(current_directory, filename)\n",
    "plt.savefig(file_path)\n",
    "plt.show()"
   ]
  },
  {
   "cell_type": "code",
   "execution_count": 47,
   "id": "1aa35537",
   "metadata": {},
   "outputs": [
    {
     "name": "stderr",
     "output_type": "stream",
     "text": [
      "C:\\Users\\debas\\anaconda3\\Lib\\site-packages\\torchvision\\models\\_utils.py:208: UserWarning: The parameter 'pretrained' is deprecated since 0.13 and may be removed in the future, please use 'weights' instead.\n",
      "  warnings.warn(\n",
      "C:\\Users\\debas\\anaconda3\\Lib\\site-packages\\torchvision\\models\\_utils.py:223: UserWarning: Arguments other than a weight enum or `None` for 'weights' are deprecated since 0.13 and may be removed in the future. The current behavior is equivalent to passing `weights=ResNet50_Weights.IMAGENET1K_V1`. You can also use `weights=ResNet50_Weights.DEFAULT` to get the most up-to-date weights.\n",
      "  warnings.warn(msg)\n"
     ]
    },
    {
     "data": {
      "text/plain": [
       "<All keys matched successfully>"
      ]
     },
     "execution_count": 47,
     "metadata": {},
     "output_type": "execute_result"
    }
   ],
   "source": [
    "#Load the saved model\n",
    "\n",
    "model = models.resnet50(pretrained=True)\n",
    "num_ftrs = model.fc.in_features\n",
    "model.fc = nn.Linear(num_ftrs, 4)\n",
    "model.load_state_dict(torch.load('D3_fixedseed_preTrue_WB.pth'))"
   ]
  },
  {
   "cell_type": "code",
   "execution_count": 48,
   "id": "939b4fe9",
   "metadata": {},
   "outputs": [],
   "source": [
    "# define loss function and optimizer\n",
    "\n",
    "optimizer = optim.Adam(model.parameters(), lr=0.001,weight_decay=0.01)"
   ]
  },
  {
   "cell_type": "code",
   "execution_count": 49,
   "id": "856d40eb",
   "metadata": {},
   "outputs": [
    {
     "name": "stderr",
     "output_type": "stream",
     "text": [
      "100%|████████████████████████████████████████████████████████████████████████████████████| 6/6 [00:01<00:00,  3.96it/s]"
     ]
    },
    {
     "name": "stdout",
     "output_type": "stream",
     "text": [
      "Test Loss: 1.0143, Test Accuracy: 0.5000\n"
     ]
    },
    {
     "name": "stderr",
     "output_type": "stream",
     "text": [
      "\n"
     ]
    }
   ],
   "source": [
    "# Calculate class proportions for the test dataset\n",
    "test_proportions = calculate_class_proportions(test_data_dir)\n",
    "\n",
    "# Calculate class weights for evaluation\n",
    "eval_class_weights = 1.0 / test_proportions\n",
    "\n",
    "criterion_eval = nn.CrossEntropyLoss(weight=torch.Tensor(eval_class_weights).to(device))\n",
    "\n",
    "# evaluate the model on the test set with weighted evaluation\n",
    "test_loss = 0.0\n",
    "test_accuracy = 0.0\n",
    "true_labels = []\n",
    "predicted_labels = []\n",
    "\n",
    "with torch.no_grad():\n",
    "    model.eval()                                         \n",
    "    for images, labels in tqdm(test_loader):\n",
    "        images = images.to(device)\n",
    "        labels = labels.to(device)\n",
    "        model.to(device)  # Move the model to the same device as the input data\n",
    "        outputs = model(images)\n",
    "        test_loss += criterion_eval(outputs, labels).item()\n",
    "        _, preds = torch.max(outputs.data, 1)\n",
    "        test_accuracy += torch.sum(preds == labels.data).item()\n",
    "        true_labels += labels.tolist()\n",
    "        predicted_labels += preds.tolist()\n",
    "\n",
    "test_loss /= len(test_loader)\n",
    "test_accuracy /= len(test_loader.dataset)\n",
    "\n",
    "print('Test Loss: {:.4f}, Test Accuracy: {:.4f}'.format(test_loss, test_accuracy))\n",
    "\n"
   ]
  },
  {
   "cell_type": "code",
   "execution_count": 50,
   "id": "6a62e5e1",
   "metadata": {},
   "outputs": [
    {
     "name": "stdout",
     "output_type": "stream",
     "text": [
      "Test accuracy obtained with Normalized Dataset 3 using ResNet50: 50.0 %\n"
     ]
    }
   ],
   "source": [
    "print('Test accuracy obtained with Normalized Dataset 3 using ResNet50:',(test_accuracy*100),'%')"
   ]
  },
  {
   "cell_type": "code",
   "execution_count": 51,
   "id": "8f53f502",
   "metadata": {},
   "outputs": [],
   "source": [
    "class_names = ['3001_Breccia','3002_IHS','3003_Other','3004_Sand']\n",
    "class_to_index = {class_name: index for index, class_name in enumerate(class_names)}"
   ]
  },
  {
   "cell_type": "code",
   "execution_count": 52,
   "id": "b3540da0",
   "metadata": {},
   "outputs": [],
   "source": [
    "# Load the trained model\n",
    "model_state_dict = torch.load('D3_fixedseed_preTrue_WB.pth')\n",
    "\n",
    "# Retrieve the class index to name mapping from the class_to_index dictionary\n",
    "class_index_to_name = {index: class_name for class_name, index in class_to_index.items()}"
   ]
  },
  {
   "cell_type": "code",
   "execution_count": 53,
   "id": "7afc93d8",
   "metadata": {},
   "outputs": [
    {
     "name": "stdout",
     "output_type": "stream",
     "text": [
      "Class Index: 0, Class Name: 3001_Breccia, Class Label: 3001\n",
      "Class Index: 1, Class Name: 3002_IHS, Class Label: 3002\n",
      "Class Index: 2, Class Name: 3003_Other, Class Label: 3003\n",
      "Class Index: 3, Class Name: 3004_Sand, Class Label: 3004\n"
     ]
    }
   ],
   "source": [
    "# Create empty lists to store the class information\n",
    "class_index_list = []\n",
    "class_name_list = []\n",
    "class_label_list = []\n",
    "\n",
    "# Iterate over the class indices and retrieve the corresponding name and label\n",
    "for i in range(model.fc.out_features):\n",
    "    class_index = i\n",
    "    class_name = class_index_to_name[class_index]\n",
    "    class_label = class_name[:4] # get the first 4 characters of the class name as label\n",
    "    class_index_list.append(class_index)\n",
    "    class_name_list.append(class_name)\n",
    "    class_label_list.append(class_label)\n",
    "\n",
    "# Print the class information\n",
    "for i in range(len(class_index_list)):\n",
    "    print(f\"Class Index: {class_index_list[i]}, Class Name: {class_name_list[i]}, Class Label: {class_label_list[i]}\")"
   ]
  },
  {
   "cell_type": "code",
   "execution_count": 54,
   "id": "df0ab012",
   "metadata": {},
   "outputs": [
    {
     "name": "stdout",
     "output_type": "stream",
     "text": [
      "[[18 27  2  4]\n",
      " [ 4 28  5 10]\n",
      " [ 1 33  3  3]\n",
      " [ 0  2  3 45]]\n"
     ]
    },
    {
     "data": {
      "image/png": "[encoded data removed]",
      "text/plain": [
       "<Figure size 500x500 with 2 Axes>"
      ]
     },
     "metadata": {},
     "output_type": "display_data"
    },
    {
     "name": "stdout",
     "output_type": "stream",
     "text": [
      "              precision    recall  f1-score   support\n",
      "\n",
      "3001_Breccia       0.78      0.35      0.49        51\n",
      "    3002_IHS       0.31      0.60      0.41        47\n",
      "  3003_Other       0.23      0.07      0.11        40\n",
      "   3004_Sand       0.73      0.90      0.80        50\n",
      "\n",
      "    accuracy                           0.50       188\n",
      "   macro avg       0.51      0.48      0.45       188\n",
      "weighted avg       0.53      0.50      0.47       188\n",
      "\n"
     ]
    }
   ],
   "source": [
    "# plot confusion matrix\n",
    "\n",
    "\n",
    "cm = confusion_matrix(true_labels, predicted_labels)\n",
    "print(cm)\n",
    "normalize = True\n",
    "fig, ax = plt.subplots(figsize=(5,5)) # enlarge the plot\n",
    "im = ax.imshow(cm, interpolation='nearest', cmap=plt.cm.Purples)\n",
    "ax.figure.colorbar(im, ax=ax)\n",
    "ax.set(xticks=np.arange(cm.shape[1]),\n",
    "       yticks=np.arange(cm.shape[0]),\n",
    "       xticklabels=class_label_list, yticklabels=class_label_list,\n",
    "       ylabel='True label',\n",
    "       xlabel='Predicted label')\n",
    "plt.setp(ax.get_xticklabels(), rotation=45, ha=\"right\", rotation_mode=\"anchor\")\n",
    "fmt = 'd' if not normalize else '.0f' # update format to print integers only\n",
    "thresh = cm.max() / 2.\n",
    "for i in range(cm.shape[0]):\n",
    "    for j in range(cm.shape[1]):\n",
    "        ax.text(j, i, format(cm[i, j], fmt),\n",
    "                ha=\"center\", va=\"center\",\n",
    "                color=\"white\" if cm[i, j] > thresh else \"black\")\n",
    "fig.tight_layout()\n",
    "\n",
    "# Get the current working directory\n",
    "current_directory = os.getcwd()\n",
    "# Define the filename\n",
    "filename = \"D3 ResNet50 Pretrained Conf WB\"\n",
    "# Construct the file path relative to the current directory\n",
    "file_path = os.path.join(current_directory, filename)\n",
    "\n",
    "plt.savefig(file_path)\n",
    "plt.show()\n",
    "\n",
    "\n",
    "# print classification report\n",
    "print(classification_report(true_labels, predicted_labels, target_names=class_names))"
   ]
  },
  {
   "cell_type": "code",
   "execution_count": 55,
   "id": "23acf625",
   "metadata": {},
   "outputs": [],
   "source": [
    "torch.cuda.empty_cache()"
   ]
  },
  {
   "cell_type": "code",
   "execution_count": null,
   "id": "f72e6ec4-2560-4a6f-9e0b-8811cf878c58",
   "metadata": {},
   "outputs": [],
   "source": []
  }
 ],
 "metadata": {
  "kernelspec": {
   "display_name": "Python 3 (ipykernel)",
   "language": "python",
   "name": "python3"
  },
  "language_info": {
   "codemirror_mode": {
    "name": "ipython",
    "version": 3
   },
   "file_extension": ".py",
   "mimetype": "text/x-python",
   "name": "python",
   "nbconvert_exporter": "python",
   "pygments_lexer": "ipython3",
   "version": "3.11.7"
  }
 },
 "nbformat": 4,
 "nbformat_minor": 5
}
